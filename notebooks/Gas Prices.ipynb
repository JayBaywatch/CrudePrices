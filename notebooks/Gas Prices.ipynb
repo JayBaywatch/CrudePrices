{
 "cells": [
  {
   "cell_type": "code",
   "execution_count": 2,
   "id": "binary-project",
   "metadata": {},
   "outputs": [],
   "source": [
    "\n",
    "import pandas as pd\n",
    "import numpy as np\n",
    "from datetime import date\n",
    "\n",
    "#import matplotlib.pylab as plot\n",
    "import matplotlib.pyplot as plt\n",
    "from matplotlib.dates import MonthLocator, YearLocator, DateFormatter"
   ]
  },
  {
   "cell_type": "code",
   "execution_count": 3,
   "id": "trained-thumbnail",
   "metadata": {},
   "outputs": [],
   "source": [
    "start_date = '2008-01-01'"
   ]
  },
  {
   "cell_type": "code",
   "execution_count": 4,
   "id": "tight-imagination",
   "metadata": {
    "pycharm": {
     "name": "#%%\n"
    }
   },
   "outputs": [],
   "source": [
    "oil_futures_path = 'https://www.eia.gov/dnav/pet/hist_xls/RCLC1d.xls'\n",
    "oil_prices_path = 'https://www.eia.gov/dnav/pet/hist_xls/RBRTEd.xls'\n",
    "diesel_prices_path = 'https://www.eia.gov/dnav/pet/xls/PET_PRI_GND_DCUS_NUS_W.xls'"
   ]
  },
  {
   "cell_type": "code",
   "execution_count": 5,
   "id": "chemical-conflict",
   "metadata": {},
   "outputs": [],
   "source": [
    "oil_futures = pd.read_excel(oil_futures_path,\n",
    "                           sheet_name='Data 1',\n",
    "                           skiprows=4,\n",
    "                           names=['SpotDate', 'SpotPrice'])\n",
    "\n",
    "oil_prices = pd.read_excel(oil_prices_path,\n",
    "                           sheet_name='Data 1',\n",
    "                           skiprows=4,\n",
    "                           names=['PriceDate', 'Price'])\n",
    "\n",
    "diesel_prices = pd.read_excel(diesel_prices_path,\n",
    "                             sheet_name='Data 1',\n",
    "                             skiprows=2,\n",
    "                             index_col=None,\n",
    "                             usecols=[0,6],\n",
    "                             names=['PriceDate', 'DieselRegularPrice']\n",
    "                            ).dropna()"
   ]
  },
  {
   "cell_type": "code",
   "execution_count": 6,
   "id": "optical-purchase",
   "metadata": {},
   "outputs": [
    {
     "data": {
      "text/html": [
       "<div>\n",
       "<style scoped>\n",
       "    .dataframe tbody tr th:only-of-type {\n",
       "        vertical-align: middle;\n",
       "    }\n",
       "\n",
       "    .dataframe tbody tr th {\n",
       "        vertical-align: top;\n",
       "    }\n",
       "\n",
       "    .dataframe thead th {\n",
       "        text-align: right;\n",
       "    }\n",
       "</style>\n",
       "<table border=\"1\" class=\"dataframe\">\n",
       "  <thead>\n",
       "    <tr style=\"text-align: right;\">\n",
       "      <th></th>\n",
       "      <th>PriceDate</th>\n",
       "      <th>DieselRegularPrice</th>\n",
       "    </tr>\n",
       "  </thead>\n",
       "  <tbody>\n",
       "    <tr>\n",
       "      <th>223</th>\n",
       "      <td>1994-11-28</td>\n",
       "      <td>1.149</td>\n",
       "    </tr>\n",
       "    <tr>\n",
       "      <th>224</th>\n",
       "      <td>1994-12-05</td>\n",
       "      <td>1.169</td>\n",
       "    </tr>\n",
       "    <tr>\n",
       "      <th>225</th>\n",
       "      <td>1994-12-12</td>\n",
       "      <td>1.167</td>\n",
       "    </tr>\n",
       "    <tr>\n",
       "      <th>226</th>\n",
       "      <td>1994-12-19</td>\n",
       "      <td>1.167</td>\n",
       "    </tr>\n",
       "    <tr>\n",
       "      <th>227</th>\n",
       "      <td>1994-12-26</td>\n",
       "      <td>1.165</td>\n",
       "    </tr>\n",
       "    <tr>\n",
       "      <th>...</th>\n",
       "      <td>...</td>\n",
       "      <td>...</td>\n",
       "    </tr>\n",
       "    <tr>\n",
       "      <th>1592</th>\n",
       "      <td>2021-02-22</td>\n",
       "      <td>2.815</td>\n",
       "    </tr>\n",
       "    <tr>\n",
       "      <th>1593</th>\n",
       "      <td>2021-03-01</td>\n",
       "      <td>2.899</td>\n",
       "    </tr>\n",
       "    <tr>\n",
       "      <th>1594</th>\n",
       "      <td>2021-03-08</td>\n",
       "      <td>2.961</td>\n",
       "    </tr>\n",
       "    <tr>\n",
       "      <th>1595</th>\n",
       "      <td>2021-03-15</td>\n",
       "      <td>3.044</td>\n",
       "    </tr>\n",
       "    <tr>\n",
       "      <th>1596</th>\n",
       "      <td>2021-03-22</td>\n",
       "      <td>3.051</td>\n",
       "    </tr>\n",
       "  </tbody>\n",
       "</table>\n",
       "<p>1374 rows × 2 columns</p>\n",
       "</div>"
      ],
      "text/plain": [
       "      PriceDate  DieselRegularPrice\n",
       "223  1994-11-28               1.149\n",
       "224  1994-12-05               1.169\n",
       "225  1994-12-12               1.167\n",
       "226  1994-12-19               1.167\n",
       "227  1994-12-26               1.165\n",
       "...         ...                 ...\n",
       "1592 2021-02-22               2.815\n",
       "1593 2021-03-01               2.899\n",
       "1594 2021-03-08               2.961\n",
       "1595 2021-03-15               3.044\n",
       "1596 2021-03-22               3.051\n",
       "\n",
       "[1374 rows x 2 columns]"
      ]
     },
     "execution_count": 6,
     "metadata": {},
     "output_type": "execute_result"
    }
   ],
   "source": [
    "diesel_prices"
   ]
  },
  {
   "cell_type": "code",
   "execution_count": 7,
   "id": "pediatric-expression",
   "metadata": {},
   "outputs": [],
   "source": [
    "oil_futures = oil_futures[(oil_futures.SpotDate.apply(\n",
    "    lambda x: pd.Timestamp(x).date()) >= pd.Timestamp(start_date).date())]\n",
    "\n",
    "oil_prices = oil_prices[(oil_prices.PriceDate.apply(\n",
    "    lambda x: pd.Timestamp(x).date()) >= pd.Timestamp(start_date).date())]\n",
    "\n",
    "gas_prices = diesel_prices[(diesel_prices.PriceDate.apply(\n",
    "    lambda x: pd.Timestamp(x).date()) >= pd.Timestamp(start_date).date())]"
   ]
  },
  {
   "cell_type": "code",
   "execution_count": 76,
   "id": "accepting-princeton",
   "metadata": {},
   "outputs": [
    {
     "data": {
      "text/html": [
       "<div>\n",
       "<style scoped>\n",
       "    .dataframe tbody tr th:only-of-type {\n",
       "        vertical-align: middle;\n",
       "    }\n",
       "\n",
       "    .dataframe tbody tr th {\n",
       "        vertical-align: top;\n",
       "    }\n",
       "\n",
       "    .dataframe thead th {\n",
       "        text-align: right;\n",
       "    }\n",
       "</style>\n",
       "<table border=\"1\" class=\"dataframe\">\n",
       "  <thead>\n",
       "    <tr style=\"text-align: right;\">\n",
       "      <th></th>\n",
       "      <th>PriceDate</th>\n",
       "      <th>DieselRegularPrice</th>\n",
       "    </tr>\n",
       "  </thead>\n",
       "  <tbody>\n",
       "    <tr>\n",
       "      <th>907</th>\n",
       "      <td>2008-01-07</td>\n",
       "      <td>3.154</td>\n",
       "    </tr>\n",
       "    <tr>\n",
       "      <th>908</th>\n",
       "      <td>2008-01-14</td>\n",
       "      <td>3.123</td>\n",
       "    </tr>\n",
       "    <tr>\n",
       "      <th>909</th>\n",
       "      <td>2008-01-21</td>\n",
       "      <td>3.072</td>\n",
       "    </tr>\n",
       "    <tr>\n",
       "      <th>910</th>\n",
       "      <td>2008-01-28</td>\n",
       "      <td>3.026</td>\n",
       "    </tr>\n",
       "    <tr>\n",
       "      <th>911</th>\n",
       "      <td>2008-02-04</td>\n",
       "      <td>3.002</td>\n",
       "    </tr>\n",
       "    <tr>\n",
       "      <th>...</th>\n",
       "      <td>...</td>\n",
       "      <td>...</td>\n",
       "    </tr>\n",
       "    <tr>\n",
       "      <th>1592</th>\n",
       "      <td>2021-02-22</td>\n",
       "      <td>2.815</td>\n",
       "    </tr>\n",
       "    <tr>\n",
       "      <th>1593</th>\n",
       "      <td>2021-03-01</td>\n",
       "      <td>2.899</td>\n",
       "    </tr>\n",
       "    <tr>\n",
       "      <th>1594</th>\n",
       "      <td>2021-03-08</td>\n",
       "      <td>2.961</td>\n",
       "    </tr>\n",
       "    <tr>\n",
       "      <th>1595</th>\n",
       "      <td>2021-03-15</td>\n",
       "      <td>3.044</td>\n",
       "    </tr>\n",
       "    <tr>\n",
       "      <th>1596</th>\n",
       "      <td>2021-03-22</td>\n",
       "      <td>3.051</td>\n",
       "    </tr>\n",
       "  </tbody>\n",
       "</table>\n",
       "<p>690 rows × 2 columns</p>\n",
       "</div>"
      ],
      "text/plain": [
       "      PriceDate  DieselRegularPrice\n",
       "907  2008-01-07               3.154\n",
       "908  2008-01-14               3.123\n",
       "909  2008-01-21               3.072\n",
       "910  2008-01-28               3.026\n",
       "911  2008-02-04               3.002\n",
       "...         ...                 ...\n",
       "1592 2021-02-22               2.815\n",
       "1593 2021-03-01               2.899\n",
       "1594 2021-03-08               2.961\n",
       "1595 2021-03-15               3.044\n",
       "1596 2021-03-22               3.051\n",
       "\n",
       "[690 rows x 2 columns]"
      ]
     },
     "execution_count": 76,
     "metadata": {},
     "output_type": "execute_result"
    }
   ],
   "source": [
    "gas_prices"
   ]
  },
  {
   "cell_type": "code",
   "execution_count": 77,
   "id": "manual-conflict",
   "metadata": {},
   "outputs": [
    {
     "data": {
      "text/plain": [
       "<matplotlib.legend.Legend at 0x7fd8ac64ba30>"
      ]
     },
     "execution_count": 77,
     "metadata": {},
     "output_type": "execute_result"
    },
    {
     "data": {
      "image/png": "[encoded data removed]",
      "text/plain": [
       "<Figure size 720x432 with 1 Axes>"
      ]
     },
     "metadata": {
      "needs_background": "light"
     },
     "output_type": "display_data"
    }
   ],
   "source": [
    "#fig = plt.figure()\n",
    "fig, ax = plt.subplots(figsize=(10, 6))\n",
    "plt.rc('font', size=12)\n",
    "ax.plot(oil_futures['SpotDate'],\n",
    "            oil_futures['SpotPrice'],\n",
    "            color='tab:green', \n",
    "            label='Spot Price'\n",
    "        )\n",
    "ax.set_xlabel('SpotDate')\n",
    "ax.set_ylabel('Price')\n",
    "ax.grid(True)\n",
    "ax.legend(loc='upper left')\n",
    "\n",
    "ax.plot(oil_prices['PriceDate'], \n",
    "        oil_prices['Price'], \n",
    "        color='tab:orange', \n",
    "        linestyle='--',\n",
    "        label='Price')\n",
    "ax.set_title('Crude Prices')\n",
    "ax.legend(loc='upper left')\n",
    "\n",
    "ax.legend(loc='upper left')"
   ]
  },
  {
   "cell_type": "code",
   "execution_count": 78,
   "id": "introductory-reducing",
   "metadata": {},
   "outputs": [
    {
     "name": "stderr",
     "output_type": "stream",
     "text": [
      "No handles with labels found to put in legend.\n"
     ]
    },
    {
     "data": {
      "text/plain": [
       "Text(0.5, 1.0, 'Diesel Prices')"
      ]
     },
     "execution_count": 78,
     "metadata": {},
     "output_type": "execute_result"
    },
    {
     "data": {
      "image/png": "[encoded data removed]",
      "text/plain": [
       "<Figure size 720x432 with 1 Axes>"
      ]
     },
     "metadata": {
      "needs_background": "light"
     },
     "output_type": "display_data"
    }
   ],
   "source": [
    "fig, ax2 = plt.subplots(figsize=(10, 6))\n",
    "plt.rc('font', size=12)\n",
    "\n",
    "ax2.set_xlabel('Date')\n",
    "ax2.set_ylabel('Price')\n",
    "ax2.grid(True)\n",
    "ax2.legend(loc='upper left')\n",
    "\n",
    "ax2.plot(gas_prices['PriceDate'], \n",
    "        gas_prices['DieselRegularPrice'], \n",
    "        color='tab:blue', \n",
    "        linestyle='-',\n",
    "        label='Price')\n",
    "ax2.set_title('Diesel Prices')"
   ]
  },
  {
   "cell_type": "code",
   "execution_count": 8,
   "id": "sonic-laptop",
   "metadata": {},
   "outputs": [
    {
     "name": "stdout",
     "output_type": "stream",
     "text": [
      "Trump Price    57.901922\n",
      "dtype: float64\n",
      "Historical Price    76.19442\n",
      "dtype: float64\n"
     ]
    }
   ],
   "source": [
    "historical_mean = oil_prices.mean(numeric_only=True)\n",
    "trumps = oil_prices[(oil_prices.PriceDate >= '2017-01-24') & (oil_prices.PriceDate < '2021-01-24')]\n",
    "tm = trumps.mean(numeric_only=True)\n",
    "print('Trump', tm)\n",
    "print('Historical', historical_mean)\n"
   ]
  },
  {
   "cell_type": "code",
   "execution_count": 9,
   "id": "patent-belgium",
   "metadata": {},
   "outputs": [
    {
     "data": {
      "text/html": [
       "<div>\n",
       "<style scoped>\n",
       "    .dataframe tbody tr th:only-of-type {\n",
       "        vertical-align: middle;\n",
       "    }\n",
       "\n",
       "    .dataframe tbody tr th {\n",
       "        vertical-align: top;\n",
       "    }\n",
       "\n",
       "    .dataframe thead th {\n",
       "        text-align: right;\n",
       "    }\n",
       "</style>\n",
       "<table border=\"1\" class=\"dataframe\">\n",
       "  <thead>\n",
       "    <tr style=\"text-align: right;\">\n",
       "      <th></th>\n",
       "      <th>PriceDate</th>\n",
       "      <th>Price</th>\n",
       "    </tr>\n",
       "  </thead>\n",
       "  <tbody>\n",
       "    <tr>\n",
       "      <th>5244</th>\n",
       "      <td>2008-01-02</td>\n",
       "      <td>97.01</td>\n",
       "    </tr>\n",
       "    <tr>\n",
       "      <th>5245</th>\n",
       "      <td>2008-01-03</td>\n",
       "      <td>98.45</td>\n",
       "    </tr>\n",
       "    <tr>\n",
       "      <th>5246</th>\n",
       "      <td>2008-01-04</td>\n",
       "      <td>96.87</td>\n",
       "    </tr>\n",
       "    <tr>\n",
       "      <th>5247</th>\n",
       "      <td>2008-01-07</td>\n",
       "      <td>94.19</td>\n",
       "    </tr>\n",
       "    <tr>\n",
       "      <th>5248</th>\n",
       "      <td>2008-01-08</td>\n",
       "      <td>96.37</td>\n",
       "    </tr>\n",
       "  </tbody>\n",
       "</table>\n",
       "</div>"
      ],
      "text/plain": [
       "      PriceDate  Price\n",
       "5244 2008-01-02  97.01\n",
       "5245 2008-01-03  98.45\n",
       "5246 2008-01-04  96.87\n",
       "5247 2008-01-07  94.19\n",
       "5248 2008-01-08  96.37"
      ]
     },
     "execution_count": 9,
     "metadata": {},
     "output_type": "execute_result"
    }
   ],
   "source": [
    "oil_prices.head()"
   ]
  },
  {
   "cell_type": "code",
   "execution_count": 10,
   "id": "perceived-bachelor",
   "metadata": {},
   "outputs": [
    {
     "data": {
      "text/plain": [
       "Price    63.081707\n",
       "dtype: float64"
      ]
     },
     "execution_count": 10,
     "metadata": {},
     "output_type": "execute_result"
    }
   ],
   "source": [
    "bidens = oil_prices[(oil_prices.PriceDate >= '2021-01-24')]\n",
    "bm = bidens.mean(numeric_only=True)\n",
    "bm"
   ]
  },
  {
   "cell_type": "code",
   "execution_count": 11,
   "id": "needed-white",
   "metadata": {},
   "outputs": [
    {
     "data": {
      "text/plain": [
       "Price    8.945792\n",
       "dtype: float64"
      ]
     },
     "execution_count": 11,
     "metadata": {},
     "output_type": "execute_result"
    }
   ],
   "source": [
    "((bm - tm) / tm) * 100"
   ]
  },
  {
   "cell_type": "code",
   "execution_count": null,
   "id": "classical-relationship",
   "metadata": {},
   "outputs": [],
   "source": []
  },
  {
   "cell_type": "code",
   "execution_count": null,
   "id": "proud-waters",
   "metadata": {},
   "outputs": [],
   "source": []
  }
 ],
 "metadata": {
  "kernelspec": {
   "display_name": "Python 3",
   "language": "python",
   "name": "python3"
  },
  "language_info": {
   "codemirror_mode": {
    "name": "ipython",
    "version": 3
   },
   "file_extension": ".py",
   "mimetype": "text/x-python",
   "name": "python",
   "nbconvert_exporter": "python",
   "pygments_lexer": "ipython3",
   "version": "3.8.8"
  }
 },
 "nbformat": 4,
 "nbformat_minor": 5
}
